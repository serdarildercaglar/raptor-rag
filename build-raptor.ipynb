{
 "cells": [
  {
   "cell_type": "code",
   "execution_count": 1,
   "id": "c8de836f",
   "metadata": {},
   "outputs": [],
   "source": [
    "\n",
    "with open('data.txt', 'r') as file:\n",
    "    text = file.read()\n"
   ]
  },
  {
   "cell_type": "code",
   "execution_count": null,
   "id": "b295bdc8",
   "metadata": {},
   "outputs": [],
   "source": [
    "\n",
    "from raptor import RetrievalAugmentation \n",
    "from raptor import RetrievalAugmentationConfig\n",
    "\n",
    "RA_config = RetrievalAugmentationConfig(tb_summarization_length=300, tb_max_tokens=600)\n",
    "RA = RetrievalAugmentation(config=RA_config)\n",
    "\n",
    "# construct the tree\n",
    "RA.add_documents(text)\n",
    "\n",
    "# Save the tree by calling RA.save(\"path/to/save\")\n",
    "SAVE_PATH = \"vectordb/raptor2\"\n",
    "if not os.path.exists(SAVE_PATH):\n",
    "    os.makedirs(SAVE_PATH)\n",
    "RA.save(SAVE_PATH)"
   ]
  }
 ],
 "metadata": {
  "kernelspec": {
   "display_name": "raptor-dev",
   "language": "python",
   "name": "python3"
  },
  "language_info": {
   "codemirror_mode": {
    "name": "ipython",
    "version": 3
   },
   "file_extension": ".py",
   "mimetype": "text/x-python",
   "name": "python",
   "nbconvert_exporter": "python",
   "pygments_lexer": "ipython3",
   "version": "3.10.0"
  }
 },
 "nbformat": 4,
 "nbformat_minor": 5
}
